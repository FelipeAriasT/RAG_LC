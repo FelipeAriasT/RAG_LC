{
 "cells": [
  {
   "cell_type": "markdown",
   "metadata": {},
   "source": [
    "## Inicialización de la Aplicación RAG Interactiva\n",
    "\n",
    "Ahora crearemos e inicializaremos la aplicación interactiva RAG que utiliza los módulos que hemos definido."
   ]
  },
  {
   "cell_type": "code",
   "execution_count": null,
   "metadata": {},
   "outputs": [
    {
     "data": {
      "application/vnd.jupyter.widget-view+json": {
       "model_id": "6ca3c94360654a5c964ba2edcefa15b4",
       "version_major": 2,
       "version_minor": 0
      },
      "text/plain": [
       "HBox(children=(VBox(children=(HTML(value='<h1>Sistema RAG Interactivo</h1>'), HTML(value='<hr>'), VBox(childre…"
      ]
     },
     "metadata": {},
     "output_type": "display_data"
    },
    {
     "name": "stdout",
     "output_type": "stream",
     "text": [
      "✅ Aplicación cargada correctamente. Utiliza la interfaz para interactuar con el sistema RAG.\n"
     ]
    },
    {
     "name": "stdout",
     "output_type": "stream",
     "text": [
      "⏳ Inicializando el procesamiento de la consulta\n",
      "✅ Inicializando el procesamiento de la consulta\n",
      "⏳ Recuperando documentos relevantes de la base de conocimiento\n",
      "✅ Inicializando el procesamiento de la consulta\n",
      "✅ Recuperando documentos relevantes de la base de conocimiento\n",
      "⏳ Generando una respuesta basada en los documentos recuperados\n",
      "✅ Inicializando el procesamiento de la consulta\n",
      "✅ Recuperando documentos relevantes de la base de conocimiento\n",
      "✅ Generando una respuesta basada en los documentos recuperados\n",
      "⏳ Validando citas y referencias en la respuesta\n",
      "✅ Inicializando el procesamiento de la consulta\n",
      "✅ Recuperando documentos relevantes de la base de conocimiento\n",
      "✅ Generando una respuesta basada en los documentos recuperados\n",
      "✅ Validando citas y referencias en la respuesta\n",
      "⏳ Extrayendo información de citas para presentación\n",
      "✅ Inicializando el procesamiento de la consulta\n",
      "✅ Recuperando documentos relevantes de la base de conocimiento\n",
      "✅ Generando una respuesta basada en los documentos recuperados\n",
      "✅ Validando citas y referencias en la respuesta\n",
      "✅ Extrayendo información de citas para presentación\n",
      "⏳ Realizando validación final de la respuesta\n"
     ]
    },
    {
     "name": "stdout",
     "output_type": "stream",
     "text": [
      "⏳ Inicializando el procesamiento de la consulta\n",
      "✅ Inicializando el procesamiento de la consulta\n",
      "⏳ Recuperando documentos relevantes de la base de conocimiento\n",
      "✅ Inicializando el procesamiento de la consulta\n",
      "✅ Recuperando documentos relevantes de la base de conocimiento\n",
      "⏳ Generando una respuesta basada en los documentos recuperados\n",
      "✅ Inicializando el procesamiento de la consulta\n",
      "✅ Recuperando documentos relevantes de la base de conocimiento\n",
      "✅ Generando una respuesta basada en los documentos recuperados\n",
      "⏳ Validando citas y referencias en la respuesta\n",
      "✅ Inicializando el procesamiento de la consulta\n",
      "✅ Recuperando documentos relevantes de la base de conocimiento\n",
      "✅ Generando una respuesta basada en los documentos recuperados\n",
      "✅ Validando citas y referencias en la respuesta\n",
      "⏳ Extrayendo información de citas para presentación\n",
      "✅ Inicializando el procesamiento de la consulta\n",
      "✅ Recuperando documentos relevantes de la base de conocimiento\n",
      "✅ Generando una respuesta basada en los documentos recuperados\n",
      "✅ Validando citas y referencias en la respuesta\n",
      "✅ Extrayendo información de citas para presentación\n",
      "⏳ Realizando validación final de la respuesta\n",
      "✅ Inicializando el procesamiento de la consulta\n",
      "✅ Recuperando documentos relevantes de la base de conocimiento\n",
      "✅ Generando una respuesta basada en los documentos recuperados\n",
      "✅ Validando citas y referencias en la respuesta\n",
      "✅ Extrayendo información de citas para presentación\n",
      "✅ Realizando validación final de la respuesta\n",
      "⏳ ¡Respuesta lista!\n"
     ]
    }
   ],
   "source": [
    "# Ejecutar la aplicación optimizada para VS Code\n",
    "from jupyter_app.progress import JupyterProgressCallback\n",
    "from jupyter_app.chat import ChatManager\n",
    "from jupyter_app.ui import UIComponents\n",
    "from jupyter_app.app import RAGJupyterApp\n",
    "import importlib\n",
    "\n",
    "# Crear instancias de los componentes\n",
    "progress_callback = JupyterProgressCallback()\n",
    "chat_manager = ChatManager()\n",
    "ui_components = UIComponents()\n",
    "\n",
    "# Crear y mostrar la aplicación\n",
    "app = RAGJupyterApp(chat_manager, progress_callback, ui_components)\n",
    "app.display()\n",
    "\n",
    "print(\"✅ Aplicación cargada correctamente. Utiliza la interfaz para interactuar con el sistema RAG.\")"
   ]
  },
  {
   "cell_type": "code",
   "execution_count": null,
   "metadata": {},
   "outputs": [],
   "source": []
  }
 ],
 "metadata": {
  "kernelspec": {
   "display_name": "RAG_V2",
   "language": "python",
   "name": "python3"
  },
  "language_info": {
   "codemirror_mode": {
    "name": "ipython",
    "version": 3
   },
   "file_extension": ".py",
   "mimetype": "text/x-python",
   "name": "python",
   "nbconvert_exporter": "python",
   "pygments_lexer": "ipython3",
   "version": "3.11.0"
  }
 },
 "nbformat": 4,
 "nbformat_minor": 2
}
